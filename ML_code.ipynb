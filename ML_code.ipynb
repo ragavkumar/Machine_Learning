{
 "cells": [
  {
   "cell_type": "code",
   "execution_count": 1,
   "metadata": {},
   "outputs": [],
   "source": [
    "import pandas as pd\n",
    "import matplotlib.pyplot as plt\n",
    "import math\n",
    "#Preprocessing\n",
    "from sklearn.preprocessing import LabelEncoder\n",
    "from sklearn.model_selection import train_test_split\n",
    "from sklearn.preprocessing import MinMaxScaler\n",
    "#SVMs - Support Vector Machines\n",
    "from sklearn.svm import SVC\n",
    "#GridSearchCV\n",
    "from sklearn.model_selection import GridSearchCV\n",
    "#KNN - k-nearest neighbors\n",
    "from sklearn.neighbors import KNeighborsClassifier\n",
    "#Decision Tree\n",
    "from sklearn import tree\n",
    "#Random Forest\n",
    "from sklearn.ensemble import RandomForestClassifier\n",
    "#Neural Network\n",
    "from tensorflow.keras.models import Sequential\n",
    "from tensorflow.keras.layers import Dense\n",
    "from tensorflow.keras.utils import to_categorical\n",
    "#K-means\n",
    "from sklearn.cluster import KMeans\n",
    "#Results\n",
    "from sklearn.metrics import classification_report"
   ]
  },
  {
   "cell_type": "markdown",
   "metadata": {},
   "source": [
    "# Read the CSV and Perform Basic Data Cleaning"
   ]
  },
  {
   "cell_type": "code",
   "execution_count": 2,
   "metadata": {},
   "outputs": [
    {
     "data": {
      "text/html": [
       "<div>\n",
       "<style scoped>\n",
       "    .dataframe tbody tr th:only-of-type {\n",
       "        vertical-align: middle;\n",
       "    }\n",
       "\n",
       "    .dataframe tbody tr th {\n",
       "        vertical-align: top;\n",
       "    }\n",
       "\n",
       "    .dataframe thead th {\n",
       "        text-align: right;\n",
       "    }\n",
       "</style>\n",
       "<table border=\"1\" class=\"dataframe\">\n",
       "  <thead>\n",
       "    <tr style=\"text-align: right;\">\n",
       "      <th></th>\n",
       "      <th>koi_disposition</th>\n",
       "      <th>koi_fpflag_nt</th>\n",
       "      <th>koi_fpflag_ss</th>\n",
       "      <th>koi_fpflag_co</th>\n",
       "      <th>koi_fpflag_ec</th>\n",
       "      <th>koi_period</th>\n",
       "      <th>koi_period_err1</th>\n",
       "      <th>koi_period_err2</th>\n",
       "      <th>koi_time0bk</th>\n",
       "      <th>koi_time0bk_err1</th>\n",
       "      <th>...</th>\n",
       "      <th>koi_steff_err2</th>\n",
       "      <th>koi_slogg</th>\n",
       "      <th>koi_slogg_err1</th>\n",
       "      <th>koi_slogg_err2</th>\n",
       "      <th>koi_srad</th>\n",
       "      <th>koi_srad_err1</th>\n",
       "      <th>koi_srad_err2</th>\n",
       "      <th>ra</th>\n",
       "      <th>dec</th>\n",
       "      <th>koi_kepmag</th>\n",
       "    </tr>\n",
       "  </thead>\n",
       "  <tbody>\n",
       "    <tr>\n",
       "      <th>0</th>\n",
       "      <td>CONFIRMED</td>\n",
       "      <td>0</td>\n",
       "      <td>0</td>\n",
       "      <td>0</td>\n",
       "      <td>0</td>\n",
       "      <td>9.488036</td>\n",
       "      <td>2.775000e-05</td>\n",
       "      <td>-2.775000e-05</td>\n",
       "      <td>170.538750</td>\n",
       "      <td>0.002160</td>\n",
       "      <td>...</td>\n",
       "      <td>-81.0</td>\n",
       "      <td>4.467</td>\n",
       "      <td>0.064</td>\n",
       "      <td>-0.096</td>\n",
       "      <td>0.927</td>\n",
       "      <td>0.105</td>\n",
       "      <td>-0.061</td>\n",
       "      <td>291.93423</td>\n",
       "      <td>48.141651</td>\n",
       "      <td>15.347</td>\n",
       "    </tr>\n",
       "    <tr>\n",
       "      <th>1</th>\n",
       "      <td>CONFIRMED</td>\n",
       "      <td>0</td>\n",
       "      <td>0</td>\n",
       "      <td>0</td>\n",
       "      <td>0</td>\n",
       "      <td>54.418383</td>\n",
       "      <td>2.479000e-04</td>\n",
       "      <td>-2.479000e-04</td>\n",
       "      <td>162.513840</td>\n",
       "      <td>0.003520</td>\n",
       "      <td>...</td>\n",
       "      <td>-81.0</td>\n",
       "      <td>4.467</td>\n",
       "      <td>0.064</td>\n",
       "      <td>-0.096</td>\n",
       "      <td>0.927</td>\n",
       "      <td>0.105</td>\n",
       "      <td>-0.061</td>\n",
       "      <td>291.93423</td>\n",
       "      <td>48.141651</td>\n",
       "      <td>15.347</td>\n",
       "    </tr>\n",
       "    <tr>\n",
       "      <th>2</th>\n",
       "      <td>FALSE POSITIVE</td>\n",
       "      <td>0</td>\n",
       "      <td>1</td>\n",
       "      <td>0</td>\n",
       "      <td>0</td>\n",
       "      <td>19.899140</td>\n",
       "      <td>1.494000e-05</td>\n",
       "      <td>-1.494000e-05</td>\n",
       "      <td>175.850252</td>\n",
       "      <td>0.000581</td>\n",
       "      <td>...</td>\n",
       "      <td>-176.0</td>\n",
       "      <td>4.544</td>\n",
       "      <td>0.044</td>\n",
       "      <td>-0.176</td>\n",
       "      <td>0.868</td>\n",
       "      <td>0.233</td>\n",
       "      <td>-0.078</td>\n",
       "      <td>297.00482</td>\n",
       "      <td>48.134129</td>\n",
       "      <td>15.436</td>\n",
       "    </tr>\n",
       "    <tr>\n",
       "      <th>3</th>\n",
       "      <td>FALSE POSITIVE</td>\n",
       "      <td>0</td>\n",
       "      <td>1</td>\n",
       "      <td>0</td>\n",
       "      <td>0</td>\n",
       "      <td>1.736952</td>\n",
       "      <td>2.630000e-07</td>\n",
       "      <td>-2.630000e-07</td>\n",
       "      <td>170.307565</td>\n",
       "      <td>0.000115</td>\n",
       "      <td>...</td>\n",
       "      <td>-174.0</td>\n",
       "      <td>4.564</td>\n",
       "      <td>0.053</td>\n",
       "      <td>-0.168</td>\n",
       "      <td>0.791</td>\n",
       "      <td>0.201</td>\n",
       "      <td>-0.067</td>\n",
       "      <td>285.53461</td>\n",
       "      <td>48.285210</td>\n",
       "      <td>15.597</td>\n",
       "    </tr>\n",
       "    <tr>\n",
       "      <th>4</th>\n",
       "      <td>CONFIRMED</td>\n",
       "      <td>0</td>\n",
       "      <td>0</td>\n",
       "      <td>0</td>\n",
       "      <td>0</td>\n",
       "      <td>2.525592</td>\n",
       "      <td>3.761000e-06</td>\n",
       "      <td>-3.761000e-06</td>\n",
       "      <td>171.595550</td>\n",
       "      <td>0.001130</td>\n",
       "      <td>...</td>\n",
       "      <td>-211.0</td>\n",
       "      <td>4.438</td>\n",
       "      <td>0.070</td>\n",
       "      <td>-0.210</td>\n",
       "      <td>1.046</td>\n",
       "      <td>0.334</td>\n",
       "      <td>-0.133</td>\n",
       "      <td>288.75488</td>\n",
       "      <td>48.226200</td>\n",
       "      <td>15.509</td>\n",
       "    </tr>\n",
       "  </tbody>\n",
       "</table>\n",
       "<p>5 rows × 41 columns</p>\n",
       "</div>"
      ],
      "text/plain": [
       "  koi_disposition  koi_fpflag_nt  koi_fpflag_ss  koi_fpflag_co  koi_fpflag_ec  \\\n",
       "0       CONFIRMED              0              0              0              0   \n",
       "1       CONFIRMED              0              0              0              0   \n",
       "2  FALSE POSITIVE              0              1              0              0   \n",
       "3  FALSE POSITIVE              0              1              0              0   \n",
       "4       CONFIRMED              0              0              0              0   \n",
       "\n",
       "   koi_period  koi_period_err1  koi_period_err2  koi_time0bk  \\\n",
       "0    9.488036     2.775000e-05    -2.775000e-05   170.538750   \n",
       "1   54.418383     2.479000e-04    -2.479000e-04   162.513840   \n",
       "2   19.899140     1.494000e-05    -1.494000e-05   175.850252   \n",
       "3    1.736952     2.630000e-07    -2.630000e-07   170.307565   \n",
       "4    2.525592     3.761000e-06    -3.761000e-06   171.595550   \n",
       "\n",
       "   koi_time0bk_err1     ...      koi_steff_err2  koi_slogg  koi_slogg_err1  \\\n",
       "0          0.002160     ...               -81.0      4.467           0.064   \n",
       "1          0.003520     ...               -81.0      4.467           0.064   \n",
       "2          0.000581     ...              -176.0      4.544           0.044   \n",
       "3          0.000115     ...              -174.0      4.564           0.053   \n",
       "4          0.001130     ...              -211.0      4.438           0.070   \n",
       "\n",
       "   koi_slogg_err2  koi_srad  koi_srad_err1  koi_srad_err2         ra  \\\n",
       "0          -0.096     0.927          0.105         -0.061  291.93423   \n",
       "1          -0.096     0.927          0.105         -0.061  291.93423   \n",
       "2          -0.176     0.868          0.233         -0.078  297.00482   \n",
       "3          -0.168     0.791          0.201         -0.067  285.53461   \n",
       "4          -0.210     1.046          0.334         -0.133  288.75488   \n",
       "\n",
       "         dec  koi_kepmag  \n",
       "0  48.141651      15.347  \n",
       "1  48.141651      15.347  \n",
       "2  48.134129      15.436  \n",
       "3  48.285210      15.597  \n",
       "4  48.226200      15.509  \n",
       "\n",
       "[5 rows x 41 columns]"
      ]
     },
     "execution_count": 2,
     "metadata": {},
     "output_type": "execute_result"
    }
   ],
   "source": [
    "df = pd.read_csv(\"cumulative.csv\")\n",
    "df = df.drop(columns=[\"rowid\", \"kepid\", \"kepoi_name\", \"kepler_name\", \"koi_pdisposition\", \"koi_score\", \"koi_tce_delivname\"])\n",
    "# Drop the null columns where all values are null\n",
    "df = df.dropna(axis='columns', how='all')\n",
    "# Drop the null rows\n",
    "df = df.dropna()\n",
    "df.head()"
   ]
  },
  {
   "cell_type": "code",
   "execution_count": 3,
   "metadata": {},
   "outputs": [
    {
     "data": {
      "text/plain": [
       "koi_disposition       object\n",
       "koi_fpflag_nt          int64\n",
       "koi_fpflag_ss          int64\n",
       "koi_fpflag_co          int64\n",
       "koi_fpflag_ec          int64\n",
       "koi_period           float64\n",
       "koi_period_err1      float64\n",
       "koi_period_err2      float64\n",
       "koi_time0bk          float64\n",
       "koi_time0bk_err1     float64\n",
       "koi_time0bk_err2     float64\n",
       "koi_impact           float64\n",
       "koi_impact_err1      float64\n",
       "koi_impact_err2      float64\n",
       "koi_duration         float64\n",
       "koi_duration_err1    float64\n",
       "koi_duration_err2    float64\n",
       "koi_depth            float64\n",
       "koi_depth_err1       float64\n",
       "koi_depth_err2       float64\n",
       "koi_prad             float64\n",
       "koi_prad_err1        float64\n",
       "koi_prad_err2        float64\n",
       "koi_teq              float64\n",
       "koi_insol            float64\n",
       "koi_insol_err1       float64\n",
       "koi_insol_err2       float64\n",
       "koi_model_snr        float64\n",
       "koi_tce_plnt_num     float64\n",
       "koi_steff            float64\n",
       "koi_steff_err1       float64\n",
       "koi_steff_err2       float64\n",
       "koi_slogg            float64\n",
       "koi_slogg_err1       float64\n",
       "koi_slogg_err2       float64\n",
       "koi_srad             float64\n",
       "koi_srad_err1        float64\n",
       "koi_srad_err2        float64\n",
       "ra                   float64\n",
       "dec                  float64\n",
       "koi_kepmag           float64\n",
       "dtype: object"
      ]
     },
     "execution_count": 3,
     "metadata": {},
     "output_type": "execute_result"
    }
   ],
   "source": [
    "# Verify that all feature columns are either int or float - if not, would have to perform one-hot encoding\n",
    "df.dtypes"
   ]
  },
  {
   "cell_type": "code",
   "execution_count": 4,
   "metadata": {},
   "outputs": [
    {
     "data": {
      "text/plain": [
       "FALSE POSITIVE    4358\n",
       "CONFIRMED         2272\n",
       "CANDIDATE         2114\n",
       "Name: koi_disposition, dtype: int64"
      ]
     },
     "execution_count": 4,
     "metadata": {},
     "output_type": "execute_result"
    }
   ],
   "source": [
    "# Number of unique outcomes in the target column\n",
    "df['koi_disposition'].value_counts()"
   ]
  },
  {
   "cell_type": "code",
   "execution_count": 5,
   "metadata": {},
   "outputs": [
    {
     "data": {
      "text/plain": [
       "2    4358\n",
       "1    2272\n",
       "0    2114\n",
       "Name: koi_disposition, dtype: int64"
      ]
     },
     "execution_count": 5,
     "metadata": {},
     "output_type": "execute_result"
    }
   ],
   "source": [
    "#Use LabelEncoder to convert the target column (which is presently categorical) to numerical\n",
    "df['koi_disposition'] = LabelEncoder().fit_transform(df.values[:, 0])\n",
    "df['koi_disposition'].value_counts()"
   ]
  },
  {
   "cell_type": "code",
   "execution_count": 6,
   "metadata": {},
   "outputs": [],
   "source": [
    "# target = df['koi_disposition'].values.reshape(-1, 1)\n",
    "target = df['koi_disposition'].values"
   ]
  },
  {
   "cell_type": "code",
   "execution_count": 7,
   "metadata": {},
   "outputs": [
    {
     "data": {
      "text/html": [
       "<div>\n",
       "<style scoped>\n",
       "    .dataframe tbody tr th:only-of-type {\n",
       "        vertical-align: middle;\n",
       "    }\n",
       "\n",
       "    .dataframe tbody tr th {\n",
       "        vertical-align: top;\n",
       "    }\n",
       "\n",
       "    .dataframe thead th {\n",
       "        text-align: right;\n",
       "    }\n",
       "</style>\n",
       "<table border=\"1\" class=\"dataframe\">\n",
       "  <thead>\n",
       "    <tr style=\"text-align: right;\">\n",
       "      <th></th>\n",
       "      <th>koi_fpflag_nt</th>\n",
       "      <th>koi_fpflag_ss</th>\n",
       "      <th>koi_fpflag_co</th>\n",
       "      <th>koi_fpflag_ec</th>\n",
       "      <th>koi_period</th>\n",
       "      <th>koi_period_err1</th>\n",
       "      <th>koi_period_err2</th>\n",
       "      <th>koi_time0bk</th>\n",
       "      <th>koi_time0bk_err1</th>\n",
       "      <th>koi_time0bk_err2</th>\n",
       "      <th>...</th>\n",
       "      <th>koi_steff_err2</th>\n",
       "      <th>koi_slogg</th>\n",
       "      <th>koi_slogg_err1</th>\n",
       "      <th>koi_slogg_err2</th>\n",
       "      <th>koi_srad</th>\n",
       "      <th>koi_srad_err1</th>\n",
       "      <th>koi_srad_err2</th>\n",
       "      <th>ra</th>\n",
       "      <th>dec</th>\n",
       "      <th>koi_kepmag</th>\n",
       "    </tr>\n",
       "  </thead>\n",
       "  <tbody>\n",
       "    <tr>\n",
       "      <th>0</th>\n",
       "      <td>0</td>\n",
       "      <td>0</td>\n",
       "      <td>0</td>\n",
       "      <td>0</td>\n",
       "      <td>9.488036</td>\n",
       "      <td>2.775000e-05</td>\n",
       "      <td>-2.775000e-05</td>\n",
       "      <td>170.538750</td>\n",
       "      <td>0.002160</td>\n",
       "      <td>-0.002160</td>\n",
       "      <td>...</td>\n",
       "      <td>-81.0</td>\n",
       "      <td>4.467</td>\n",
       "      <td>0.064</td>\n",
       "      <td>-0.096</td>\n",
       "      <td>0.927</td>\n",
       "      <td>0.105</td>\n",
       "      <td>-0.061</td>\n",
       "      <td>291.93423</td>\n",
       "      <td>48.141651</td>\n",
       "      <td>15.347</td>\n",
       "    </tr>\n",
       "    <tr>\n",
       "      <th>1</th>\n",
       "      <td>0</td>\n",
       "      <td>0</td>\n",
       "      <td>0</td>\n",
       "      <td>0</td>\n",
       "      <td>54.418383</td>\n",
       "      <td>2.479000e-04</td>\n",
       "      <td>-2.479000e-04</td>\n",
       "      <td>162.513840</td>\n",
       "      <td>0.003520</td>\n",
       "      <td>-0.003520</td>\n",
       "      <td>...</td>\n",
       "      <td>-81.0</td>\n",
       "      <td>4.467</td>\n",
       "      <td>0.064</td>\n",
       "      <td>-0.096</td>\n",
       "      <td>0.927</td>\n",
       "      <td>0.105</td>\n",
       "      <td>-0.061</td>\n",
       "      <td>291.93423</td>\n",
       "      <td>48.141651</td>\n",
       "      <td>15.347</td>\n",
       "    </tr>\n",
       "    <tr>\n",
       "      <th>2</th>\n",
       "      <td>0</td>\n",
       "      <td>1</td>\n",
       "      <td>0</td>\n",
       "      <td>0</td>\n",
       "      <td>19.899140</td>\n",
       "      <td>1.494000e-05</td>\n",
       "      <td>-1.494000e-05</td>\n",
       "      <td>175.850252</td>\n",
       "      <td>0.000581</td>\n",
       "      <td>-0.000581</td>\n",
       "      <td>...</td>\n",
       "      <td>-176.0</td>\n",
       "      <td>4.544</td>\n",
       "      <td>0.044</td>\n",
       "      <td>-0.176</td>\n",
       "      <td>0.868</td>\n",
       "      <td>0.233</td>\n",
       "      <td>-0.078</td>\n",
       "      <td>297.00482</td>\n",
       "      <td>48.134129</td>\n",
       "      <td>15.436</td>\n",
       "    </tr>\n",
       "    <tr>\n",
       "      <th>3</th>\n",
       "      <td>0</td>\n",
       "      <td>1</td>\n",
       "      <td>0</td>\n",
       "      <td>0</td>\n",
       "      <td>1.736952</td>\n",
       "      <td>2.630000e-07</td>\n",
       "      <td>-2.630000e-07</td>\n",
       "      <td>170.307565</td>\n",
       "      <td>0.000115</td>\n",
       "      <td>-0.000115</td>\n",
       "      <td>...</td>\n",
       "      <td>-174.0</td>\n",
       "      <td>4.564</td>\n",
       "      <td>0.053</td>\n",
       "      <td>-0.168</td>\n",
       "      <td>0.791</td>\n",
       "      <td>0.201</td>\n",
       "      <td>-0.067</td>\n",
       "      <td>285.53461</td>\n",
       "      <td>48.285210</td>\n",
       "      <td>15.597</td>\n",
       "    </tr>\n",
       "    <tr>\n",
       "      <th>4</th>\n",
       "      <td>0</td>\n",
       "      <td>0</td>\n",
       "      <td>0</td>\n",
       "      <td>0</td>\n",
       "      <td>2.525592</td>\n",
       "      <td>3.761000e-06</td>\n",
       "      <td>-3.761000e-06</td>\n",
       "      <td>171.595550</td>\n",
       "      <td>0.001130</td>\n",
       "      <td>-0.001130</td>\n",
       "      <td>...</td>\n",
       "      <td>-211.0</td>\n",
       "      <td>4.438</td>\n",
       "      <td>0.070</td>\n",
       "      <td>-0.210</td>\n",
       "      <td>1.046</td>\n",
       "      <td>0.334</td>\n",
       "      <td>-0.133</td>\n",
       "      <td>288.75488</td>\n",
       "      <td>48.226200</td>\n",
       "      <td>15.509</td>\n",
       "    </tr>\n",
       "  </tbody>\n",
       "</table>\n",
       "<p>5 rows × 40 columns</p>\n",
       "</div>"
      ],
      "text/plain": [
       "   koi_fpflag_nt  koi_fpflag_ss  koi_fpflag_co  koi_fpflag_ec  koi_period  \\\n",
       "0              0              0              0              0    9.488036   \n",
       "1              0              0              0              0   54.418383   \n",
       "2              0              1              0              0   19.899140   \n",
       "3              0              1              0              0    1.736952   \n",
       "4              0              0              0              0    2.525592   \n",
       "\n",
       "   koi_period_err1  koi_period_err2  koi_time0bk  koi_time0bk_err1  \\\n",
       "0     2.775000e-05    -2.775000e-05   170.538750          0.002160   \n",
       "1     2.479000e-04    -2.479000e-04   162.513840          0.003520   \n",
       "2     1.494000e-05    -1.494000e-05   175.850252          0.000581   \n",
       "3     2.630000e-07    -2.630000e-07   170.307565          0.000115   \n",
       "4     3.761000e-06    -3.761000e-06   171.595550          0.001130   \n",
       "\n",
       "   koi_time0bk_err2     ...      koi_steff_err2  koi_slogg  koi_slogg_err1  \\\n",
       "0         -0.002160     ...               -81.0      4.467           0.064   \n",
       "1         -0.003520     ...               -81.0      4.467           0.064   \n",
       "2         -0.000581     ...              -176.0      4.544           0.044   \n",
       "3         -0.000115     ...              -174.0      4.564           0.053   \n",
       "4         -0.001130     ...              -211.0      4.438           0.070   \n",
       "\n",
       "   koi_slogg_err2  koi_srad  koi_srad_err1  koi_srad_err2         ra  \\\n",
       "0          -0.096     0.927          0.105         -0.061  291.93423   \n",
       "1          -0.096     0.927          0.105         -0.061  291.93423   \n",
       "2          -0.176     0.868          0.233         -0.078  297.00482   \n",
       "3          -0.168     0.791          0.201         -0.067  285.53461   \n",
       "4          -0.210     1.046          0.334         -0.133  288.75488   \n",
       "\n",
       "         dec  koi_kepmag  \n",
       "0  48.141651      15.347  \n",
       "1  48.141651      15.347  \n",
       "2  48.134129      15.436  \n",
       "3  48.285210      15.597  \n",
       "4  48.226200      15.509  \n",
       "\n",
       "[5 rows x 40 columns]"
      ]
     },
     "execution_count": 7,
     "metadata": {},
     "output_type": "execute_result"
    }
   ],
   "source": [
    "features = df.drop(\"koi_disposition\", axis=1)\n",
    "feature_names = features.columns\n",
    "features.head()"
   ]
  },
  {
   "cell_type": "markdown",
   "metadata": {},
   "source": [
    "# Create a Train Test Split\n",
    "\n",
    "Use `koi_disposition` for the y values"
   ]
  },
  {
   "cell_type": "code",
   "execution_count": 8,
   "metadata": {},
   "outputs": [],
   "source": [
    "X_train, X_test, y_train, y_test = train_test_split(features, target, random_state=42)"
   ]
  },
  {
   "cell_type": "markdown",
   "metadata": {},
   "source": [
    "# Pre-processing\n",
    "\n",
    "Scale the data using the MinMaxScaler"
   ]
  },
  {
   "cell_type": "code",
   "execution_count": 9,
   "metadata": {},
   "outputs": [
    {
     "name": "stderr",
     "output_type": "stream",
     "text": [
      "C:\\Users\\Ragavendar Kumar\\Anaconda3\\envs\\PythonData\\lib\\site-packages\\sklearn\\preprocessing\\data.py:323: DataConversionWarning: Data with input dtype int64, float64 were all converted to float64 by MinMaxScaler.\n",
      "  return self.partial_fit(X, y)\n"
     ]
    }
   ],
   "source": [
    "X_scaler = MinMaxScaler().fit(X_train)"
   ]
  },
  {
   "cell_type": "code",
   "execution_count": 10,
   "metadata": {},
   "outputs": [],
   "source": [
    "X_train_scaled = X_scaler.transform(X_train)\n",
    "X_test_scaled = X_scaler.transform(X_test)"
   ]
  },
  {
   "cell_type": "code",
   "execution_count": 11,
   "metadata": {},
   "outputs": [],
   "source": [
    "# import matplotlib.pyplot as plt\n",
    "\n",
    "# fig1 = plt.figure(figsize=(12, 6))\n",
    "# axes1 = fig1.add_subplot(1, 2, 1)\n",
    "# axes2 = fig1.add_subplot(1, 2, 2)\n",
    "\n",
    "# axes1.set_title(\"Original Data\")\n",
    "# axes2.set_title(\"Scaled Data\")\n",
    "\n",
    "# maxx = X_train[\"koi_period\"].max()\n",
    "# maxy = y_train.max()\n",
    "# axes1.set_xlim(-maxx + 1, maxx + 1)\n",
    "# axes1.set_ylim(-maxy + 1, maxy + 1)\n",
    "\n",
    "# axes2.set_xlim(-2, 2)\n",
    "# axes2.set_ylim(-2, 2)\n",
    "\n",
    "# def set_axes(ax):\n",
    "#     ax.spines['left'].set_position('center')\n",
    "#     ax.spines['right'].set_color('none')\n",
    "#     ax.spines['bottom'].set_position('center')\n",
    "#     ax.spines['top'].set_color('none')\n",
    "#     ax.xaxis.set_ticks_position('bottom')\n",
    "#     ax.yaxis.set_ticks_position('left')\n",
    "    \n",
    "# set_axes(axes1)\n",
    "# set_axes(axes2)\n",
    "\n",
    "# axes1.scatter(X_train[\"koi_period\"], y_train)\n",
    "# axes2.scatter(X_train_scaled[:,0], y_train_scaled[:])"
   ]
  },
  {
   "cell_type": "markdown",
   "metadata": {},
   "source": [
    "# Support Vector Machine"
   ]
  },
  {
   "cell_type": "code",
   "execution_count": 12,
   "metadata": {},
   "outputs": [
    {
     "data": {
      "text/plain": [
       "SVC(C=1.0, cache_size=200, class_weight=None, coef0=0.0,\n",
       "  decision_function_shape='ovr', degree=3, gamma='auto_deprecated',\n",
       "  kernel='linear', max_iter=-1, probability=False, random_state=None,\n",
       "  shrinking=True, tol=0.001, verbose=False)"
      ]
     },
     "execution_count": 12,
     "metadata": {},
     "output_type": "execute_result"
    }
   ],
   "source": [
    "svm_model = SVC(kernel = 'linear') #can use 'poly','sigmoid','rbf' etc\n",
    "svm_model.fit(X_train_scaled, y_train)"
   ]
  },
  {
   "cell_type": "code",
   "execution_count": 13,
   "metadata": {},
   "outputs": [
    {
     "name": "stdout",
     "output_type": "stream",
     "text": [
      "Training Data Score: 0.8502592253735896\n",
      "Testing Data Score: 0.838975297346752\n"
     ]
    }
   ],
   "source": [
    "print(f\"Training Data Score: {svm_model.score(X_train_scaled, y_train)}\")\n",
    "print(f\"Testing Data Score: {svm_model.score(X_test_scaled, y_test)}\")"
   ]
  },
  {
   "cell_type": "code",
   "execution_count": 14,
   "metadata": {},
   "outputs": [],
   "source": [
    "predictions_svm = svm_model.predict(X_test_scaled)"
   ]
  },
  {
   "cell_type": "code",
   "execution_count": 15,
   "metadata": {},
   "outputs": [
    {
     "name": "stdout",
     "output_type": "stream",
     "text": [
      "              precision    recall  f1-score   support\n",
      "\n",
      "           0       0.73      0.56      0.63       523\n",
      "           1       0.68      0.80      0.73       594\n",
      "           2       0.98      1.00      0.99      1069\n",
      "\n",
      "   micro avg       0.84      0.84      0.84      2186\n",
      "   macro avg       0.80      0.78      0.79      2186\n",
      "weighted avg       0.84      0.84      0.83      2186\n",
      "\n"
     ]
    }
   ],
   "source": [
    "print(classification_report(y_test, predictions_svm))"
   ]
  },
  {
   "cell_type": "markdown",
   "metadata": {},
   "source": [
    "# Hyperparameter Tuning - GridSearch\n",
    "\n",
    "Use `GridSearchCV` to tune the `C` and `gamma` parameters"
   ]
  },
  {
   "cell_type": "code",
   "execution_count": 16,
   "metadata": {},
   "outputs": [],
   "source": [
    "# Create the GridSearchCV model\n",
    "param_grid = {'C': [1, 5, 10],\n",
    "              'gamma': [0.0001, 0.001, 0.01]}\n",
    "grid = GridSearchCV(svm_model, param_grid, verbose=3)"
   ]
  },
  {
   "cell_type": "code",
   "execution_count": 17,
   "metadata": {},
   "outputs": [
    {
     "name": "stdout",
     "output_type": "stream",
     "text": [
      "Fitting 3 folds for each of 9 candidates, totalling 27 fits\n",
      "[CV] C=1, gamma=0.0001 ...............................................\n"
     ]
    },
    {
     "name": "stderr",
     "output_type": "stream",
     "text": [
      "C:\\Users\\Ragavendar Kumar\\Anaconda3\\envs\\PythonData\\lib\\site-packages\\sklearn\\model_selection\\_split.py:2053: FutureWarning: You should specify a value for 'cv' instead of relying on the default value. The default value will change from 3 to 5 in version 0.22.\n",
      "  warnings.warn(CV_WARNING, FutureWarning)\n",
      "[Parallel(n_jobs=1)]: Using backend SequentialBackend with 1 concurrent workers.\n"
     ]
    },
    {
     "name": "stdout",
     "output_type": "stream",
     "text": [
      "[CV] ....... C=1, gamma=0.0001, score=0.846892138939671, total=   0.8s\n",
      "[CV] C=1, gamma=0.0001 ...............................................\n"
     ]
    },
    {
     "name": "stderr",
     "output_type": "stream",
     "text": [
      "[Parallel(n_jobs=1)]: Done   1 out of   1 | elapsed:    1.4s remaining:    0.0s\n"
     ]
    },
    {
     "name": "stdout",
     "output_type": "stream",
     "text": [
      "[CV] ...... C=1, gamma=0.0001, score=0.8384439359267735, total=   0.9s\n",
      "[CV] C=1, gamma=0.0001 ...............................................\n"
     ]
    },
    {
     "name": "stderr",
     "output_type": "stream",
     "text": [
      "[Parallel(n_jobs=1)]: Done   2 out of   2 | elapsed:    2.9s remaining:    0.0s\n"
     ]
    },
    {
     "name": "stdout",
     "output_type": "stream",
     "text": [
      "[CV] ...... C=1, gamma=0.0001, score=0.8480549199084668, total=   1.0s\n",
      "[CV] C=1, gamma=0.001 ................................................\n",
      "[CV] ........ C=1, gamma=0.001, score=0.846892138939671, total=   1.6s\n",
      "[CV] C=1, gamma=0.001 ................................................\n",
      "[CV] ....... C=1, gamma=0.001, score=0.8384439359267735, total=   0.6s\n",
      "[CV] C=1, gamma=0.001 ................................................\n",
      "[CV] ....... C=1, gamma=0.001, score=0.8480549199084668, total=   0.5s\n",
      "[CV] C=1, gamma=0.01 .................................................\n",
      "[CV] ......... C=1, gamma=0.01, score=0.846892138939671, total=   0.6s\n",
      "[CV] C=1, gamma=0.01 .................................................\n",
      "[CV] ........ C=1, gamma=0.01, score=0.8384439359267735, total=   0.8s\n",
      "[CV] C=1, gamma=0.01 .................................................\n",
      "[CV] ........ C=1, gamma=0.01, score=0.8480549199084668, total=   0.8s\n",
      "[CV] C=5, gamma=0.0001 ...............................................\n",
      "[CV] ...... C=5, gamma=0.0001, score=0.8660877513711152, total=   0.6s\n",
      "[CV] C=5, gamma=0.0001 ...............................................\n",
      "[CV] ...... C=5, gamma=0.0001, score=0.8535469107551488, total=   0.6s\n",
      "[CV] C=5, gamma=0.0001 ...............................................\n",
      "[CV] ...... C=5, gamma=0.0001, score=0.8745995423340961, total=   0.6s\n",
      "[CV] C=5, gamma=0.001 ................................................\n",
      "[CV] ....... C=5, gamma=0.001, score=0.8660877513711152, total=   0.9s\n",
      "[CV] C=5, gamma=0.001 ................................................\n",
      "[CV] ....... C=5, gamma=0.001, score=0.8535469107551488, total=   0.6s\n",
      "[CV] C=5, gamma=0.001 ................................................\n",
      "[CV] ....... C=5, gamma=0.001, score=0.8745995423340961, total=   0.7s\n",
      "[CV] C=5, gamma=0.01 .................................................\n",
      "[CV] ........ C=5, gamma=0.01, score=0.8660877513711152, total=   0.6s\n",
      "[CV] C=5, gamma=0.01 .................................................\n",
      "[CV] ........ C=5, gamma=0.01, score=0.8535469107551488, total=   0.6s\n",
      "[CV] C=5, gamma=0.01 .................................................\n",
      "[CV] ........ C=5, gamma=0.01, score=0.8745995423340961, total=   0.7s\n",
      "[CV] C=10, gamma=0.0001 ..............................................\n",
      "[CV] ...... C=10, gamma=0.0001, score=0.870201096892139, total=   0.6s\n",
      "[CV] C=10, gamma=0.0001 ..............................................\n",
      "[CV] ..... C=10, gamma=0.0001, score=0.8649885583524027, total=   0.6s\n",
      "[CV] C=10, gamma=0.0001 ..............................................\n",
      "[CV] ..... C=10, gamma=0.0001, score=0.8791762013729977, total=   0.8s\n",
      "[CV] C=10, gamma=0.001 ...............................................\n",
      "[CV] ....... C=10, gamma=0.001, score=0.870201096892139, total=   1.0s\n",
      "[CV] C=10, gamma=0.001 ...............................................\n",
      "[CV] ...... C=10, gamma=0.001, score=0.8649885583524027, total=   0.6s\n",
      "[CV] C=10, gamma=0.001 ...............................................\n",
      "[CV] ...... C=10, gamma=0.001, score=0.8791762013729977, total=   0.7s\n",
      "[CV] C=10, gamma=0.01 ................................................\n",
      "[CV] ........ C=10, gamma=0.01, score=0.870201096892139, total=   0.8s\n",
      "[CV] C=10, gamma=0.01 ................................................\n",
      "[CV] ....... C=10, gamma=0.01, score=0.8649885583524027, total=   1.0s\n",
      "[CV] C=10, gamma=0.01 ................................................\n",
      "[CV] ....... C=10, gamma=0.01, score=0.8791762013729977, total=   0.7s\n"
     ]
    },
    {
     "name": "stderr",
     "output_type": "stream",
     "text": [
      "[Parallel(n_jobs=1)]: Done  27 out of  27 | elapsed:   36.2s finished\n"
     ]
    },
    {
     "data": {
      "text/plain": [
       "GridSearchCV(cv='warn', error_score='raise-deprecating',\n",
       "       estimator=SVC(C=1.0, cache_size=200, class_weight=None, coef0=0.0,\n",
       "  decision_function_shape='ovr', degree=3, gamma='auto_deprecated',\n",
       "  kernel='linear', max_iter=-1, probability=False, random_state=None,\n",
       "  shrinking=True, tol=0.001, verbose=False),\n",
       "       fit_params=None, iid='warn', n_jobs=None,\n",
       "       param_grid={'C': [1, 5, 10], 'gamma': [0.0001, 0.001, 0.01]},\n",
       "       pre_dispatch='2*n_jobs', refit=True, return_train_score='warn',\n",
       "       scoring=None, verbose=3)"
      ]
     },
     "execution_count": 17,
     "metadata": {},
     "output_type": "execute_result"
    }
   ],
   "source": [
    "# Train the model with GridSearch\n",
    "grid.fit(X_train_scaled, y_train)"
   ]
  },
  {
   "cell_type": "code",
   "execution_count": 18,
   "metadata": {},
   "outputs": [
    {
     "name": "stdout",
     "output_type": "stream",
     "text": [
      "{'C': 10, 'gamma': 0.0001}\n",
      "0.8714547118023788\n"
     ]
    }
   ],
   "source": [
    "print(grid.best_params_)\n",
    "print(grid.best_score_)"
   ]
  },
  {
   "cell_type": "code",
   "execution_count": 19,
   "metadata": {},
   "outputs": [],
   "source": [
    "predictions_grid = grid.predict(X_test_scaled)"
   ]
  },
  {
   "cell_type": "code",
   "execution_count": 20,
   "metadata": {},
   "outputs": [
    {
     "name": "stdout",
     "output_type": "stream",
     "text": [
      "              precision    recall  f1-score   support\n",
      "\n",
      "           0       0.85      0.59      0.70       523\n",
      "           1       0.72      0.88      0.79       594\n",
      "           2       0.98      1.00      0.99      1069\n",
      "\n",
      "   micro avg       0.87      0.87      0.87      2186\n",
      "   macro avg       0.85      0.82      0.83      2186\n",
      "weighted avg       0.88      0.87      0.87      2186\n",
      "\n"
     ]
    }
   ],
   "source": [
    "print(classification_report(y_test, predictions_grid))"
   ]
  },
  {
   "cell_type": "markdown",
   "metadata": {},
   "source": [
    "# KNN - K Nearest Neighbors"
   ]
  },
  {
   "cell_type": "code",
   "execution_count": 21,
   "metadata": {},
   "outputs": [],
   "source": [
    "#choose k up to sqrt(len(X_train_scaled))\n",
    "if (math.ceil(math.sqrt(len(X_train_scaled))) % 2 == 0):\n",
    "    k_limit = math.ceil(math.sqrt(len(X_train_scaled)))+1\n",
    "else:\n",
    "    k_limit = math.ceil(math.sqrt(len(X_train_scaled)))"
   ]
  },
  {
   "cell_type": "code",
   "execution_count": 22,
   "metadata": {},
   "outputs": [
    {
     "name": "stdout",
     "output_type": "stream",
     "text": [
      "k: 1, Train/Test Score: 1.000/0.783\n",
      "k: 3, Train/Test Score: 0.895/0.799\n",
      "k: 5, Train/Test Score: 0.869/0.812\n",
      "k: 7, Train/Test Score: 0.862/0.812\n",
      "k: 9, Train/Test Score: 0.857/0.810\n",
      "k: 11, Train/Test Score: 0.851/0.805\n",
      "k: 13, Train/Test Score: 0.848/0.802\n",
      "k: 15, Train/Test Score: 0.847/0.809\n",
      "k: 17, Train/Test Score: 0.843/0.806\n",
      "k: 19, Train/Test Score: 0.840/0.808\n",
      "k: 21, Train/Test Score: 0.839/0.806\n",
      "k: 23, Train/Test Score: 0.838/0.806\n",
      "k: 25, Train/Test Score: 0.838/0.808\n",
      "k: 27, Train/Test Score: 0.836/0.811\n",
      "k: 29, Train/Test Score: 0.837/0.807\n",
      "k: 31, Train/Test Score: 0.837/0.808\n",
      "k: 33, Train/Test Score: 0.836/0.801\n",
      "k: 35, Train/Test Score: 0.836/0.803\n",
      "k: 37, Train/Test Score: 0.836/0.801\n",
      "k: 39, Train/Test Score: 0.834/0.801\n",
      "k: 41, Train/Test Score: 0.833/0.802\n",
      "k: 43, Train/Test Score: 0.832/0.802\n",
      "k: 45, Train/Test Score: 0.831/0.801\n",
      "k: 47, Train/Test Score: 0.831/0.800\n",
      "k: 49, Train/Test Score: 0.830/0.801\n",
      "k: 51, Train/Test Score: 0.830/0.801\n",
      "k: 53, Train/Test Score: 0.832/0.802\n",
      "k: 55, Train/Test Score: 0.832/0.805\n",
      "k: 57, Train/Test Score: 0.831/0.806\n",
      "k: 59, Train/Test Score: 0.830/0.804\n",
      "k: 61, Train/Test Score: 0.830/0.801\n",
      "k: 63, Train/Test Score: 0.831/0.801\n",
      "k: 65, Train/Test Score: 0.832/0.800\n",
      "k: 67, Train/Test Score: 0.830/0.798\n",
      "k: 69, Train/Test Score: 0.830/0.799\n",
      "k: 71, Train/Test Score: 0.830/0.801\n",
      "k: 73, Train/Test Score: 0.830/0.802\n",
      "k: 75, Train/Test Score: 0.830/0.801\n",
      "k: 77, Train/Test Score: 0.828/0.804\n",
      "k: 79, Train/Test Score: 0.827/0.806\n",
      "k: 81, Train/Test Score: 0.827/0.806\n"
     ]
    }
   ],
   "source": [
    "train_scores = []\n",
    "test_scores = []\n",
    "\n",
    "for i in range(1, k_limit+2, 2):\n",
    "    knn_classifier = KNeighborsClassifier(n_neighbors=i)\n",
    "    knn_classifier.fit(X_train_scaled, y_train)\n",
    "    \n",
    "    train_score = knn_classifier.score(X_train_scaled, y_train)\n",
    "    test_score = knn_classifier.score(X_test_scaled, y_test)\n",
    "    \n",
    "    train_scores.append(train_score)\n",
    "    test_scores.append(test_score)\n",
    "    \n",
    "    print(f\"k: {i}, Train/Test Score: {train_score:.3f}/{test_score:.3f}\")"
   ]
  },
  {
   "cell_type": "code",
   "execution_count": 23,
   "metadata": {},
   "outputs": [
    {
     "data": {
      "image/png": "[encoded data removed]",
      "text/plain": [
       "<Figure size 432x288 with 1 Axes>"
      ]
     },
     "metadata": {
      "needs_background": "light"
     },
     "output_type": "display_data"
    }
   ],
   "source": [
    "plt.plot(range(1, k_limit+2, 2), train_scores, marker='o', label = 'Training')\n",
    "plt.plot(range(1, k_limit+2, 2), test_scores, marker=\"x\", label = 'Testing')\n",
    "plt.xlabel(\"k neighbors\")\n",
    "plt.ylabel(\"Testing accuracy Score\")\n",
    "plt.legend()\n",
    "plt.show()"
   ]
  },
  {
   "cell_type": "code",
   "execution_count": 24,
   "metadata": {},
   "outputs": [
    {
     "name": "stdout",
     "output_type": "stream",
     "text": [
      "k=27 Test Acc: 0.811\n"
     ]
    }
   ],
   "source": [
    "new_knn_classifier = KNeighborsClassifier(n_neighbors=27)\n",
    "new_knn_classifier.fit(X_train_scaled, y_train)\n",
    "print('k=27 Test Acc: %.3f' % new_knn_classifier.score(X_test_scaled, y_test))"
   ]
  },
  {
   "cell_type": "code",
   "execution_count": 25,
   "metadata": {},
   "outputs": [],
   "source": [
    "predictions_knn = new_knn_classifier.predict(X_test_scaled)"
   ]
  },
  {
   "cell_type": "code",
   "execution_count": 26,
   "metadata": {},
   "outputs": [
    {
     "name": "stdout",
     "output_type": "stream",
     "text": [
      "              precision    recall  f1-score   support\n",
      "\n",
      "           0       0.69      0.43      0.53       523\n",
      "           1       0.62      0.81      0.70       594\n",
      "           2       0.98      1.00      0.99      1069\n",
      "\n",
      "   micro avg       0.81      0.81      0.81      2186\n",
      "   macro avg       0.76      0.75      0.74      2186\n",
      "weighted avg       0.81      0.81      0.80      2186\n",
      "\n"
     ]
    }
   ],
   "source": [
    "print(classification_report(y_test, predictions_knn))"
   ]
  },
  {
   "cell_type": "markdown",
   "metadata": {},
   "source": [
    "# Decision Tree"
   ]
  },
  {
   "cell_type": "code",
   "execution_count": 27,
   "metadata": {},
   "outputs": [],
   "source": [
    "dec_tree_classifier = tree.DecisionTreeClassifier().fit(X_train_scaled, y_train)"
   ]
  },
  {
   "cell_type": "code",
   "execution_count": 28,
   "metadata": {},
   "outputs": [
    {
     "name": "stdout",
     "output_type": "stream",
     "text": [
      "Decision Tree - Testing Data r2 Score: 0.8458371454711803\n"
     ]
    }
   ],
   "source": [
    "print(f\"Decision Tree - Testing Data r2 Score: {dec_tree_classifier.score(X_test_scaled, y_test)}\")"
   ]
  },
  {
   "cell_type": "markdown",
   "metadata": {},
   "source": [
    "# Random Forest"
   ]
  },
  {
   "cell_type": "code",
   "execution_count": 29,
   "metadata": {},
   "outputs": [
    {
     "name": "stderr",
     "output_type": "stream",
     "text": [
      "C:\\Users\\Ragavendar Kumar\\Anaconda3\\envs\\PythonData\\lib\\site-packages\\sklearn\\ensemble\\forest.py:246: FutureWarning: The default value of n_estimators will change from 10 in version 0.20 to 100 in 0.22.\n",
      "  \"10 in version 0.20 to 100 in 0.22.\", FutureWarning)\n"
     ]
    },
    {
     "data": {
      "text/plain": [
       "RandomForestClassifier(bootstrap=True, class_weight=None, criterion='gini',\n",
       "            max_depth=None, max_features='auto', max_leaf_nodes=None,\n",
       "            min_impurity_decrease=0.0, min_impurity_split=None,\n",
       "            min_samples_leaf=1, min_samples_split=2,\n",
       "            min_weight_fraction_leaf=0.0, n_estimators=10, n_jobs=None,\n",
       "            oob_score=False, random_state=None, verbose=0,\n",
       "            warm_start=False)"
      ]
     },
     "execution_count": 29,
     "metadata": {},
     "output_type": "execute_result"
    }
   ],
   "source": [
    "rf_classifier = RandomForestClassifier()\n",
    "rf_classifier.fit(X_train_scaled, y_train)"
   ]
  },
  {
   "cell_type": "code",
   "execution_count": 30,
   "metadata": {},
   "outputs": [
    {
     "name": "stdout",
     "output_type": "stream",
     "text": [
      "Random Forest - Testing Data r2 Score: 0.8755718206770357\n"
     ]
    }
   ],
   "source": [
    "print(f\"Random Forest - Testing Data r2 Score: {rf_classifier.score(X_test_scaled, y_test)}\")"
   ]
  },
  {
   "cell_type": "code",
   "execution_count": 31,
   "metadata": {},
   "outputs": [
    {
     "data": {
      "text/plain": [
       "array([0.10768941, 0.07583415, 0.13204837, 0.02910557, 0.01844073,\n",
       "       0.03328631, 0.01341257, 0.01438039, 0.02081319, 0.01322141,\n",
       "       0.01785763, 0.0106638 , 0.00967316, 0.02108327, 0.01763109,\n",
       "       0.05093568, 0.0259625 , 0.01175772, 0.01271063, 0.04539554,\n",
       "       0.01281915, 0.02206523, 0.00981982, 0.01333732, 0.01310269,\n",
       "       0.00960153, 0.05980389, 0.00262682, 0.00874055, 0.02171286,\n",
       "       0.05628104, 0.00915953, 0.00818994, 0.01076095, 0.00914838,\n",
       "       0.0104894 , 0.00775666, 0.0128546 , 0.01125132, 0.00857519])"
      ]
     },
     "execution_count": 31,
     "metadata": {},
     "output_type": "execute_result"
    }
   ],
   "source": [
    "# Importances\n",
    "importances = rf_classifier.feature_importances_\n",
    "importances"
   ]
  },
  {
   "cell_type": "code",
   "execution_count": 32,
   "metadata": {},
   "outputs": [
    {
     "data": {
      "text/plain": [
       "[(0.13204836752400778, 'koi_fpflag_co'),\n",
       " (0.10768941381203645, 'koi_fpflag_nt'),\n",
       " (0.07583414985618311, 'koi_fpflag_ss'),\n",
       " (0.05980389088875474, 'koi_model_snr'),\n",
       " (0.05628103640073941, 'koi_steff_err2'),\n",
       " (0.05093568165518446, 'koi_duration_err2'),\n",
       " (0.04539554087711278, 'koi_prad'),\n",
       " (0.03328631018477341, 'koi_period_err1'),\n",
       " (0.02910557190420293, 'koi_fpflag_ec'),\n",
       " (0.025962499530197698, 'koi_depth'),\n",
       " (0.02206523061113095, 'koi_prad_err2'),\n",
       " (0.021712856335793194, 'koi_steff_err1'),\n",
       " (0.02108327354236025, 'koi_duration'),\n",
       " (0.020813194281284926, 'koi_time0bk_err1'),\n",
       " (0.0184407272156544, 'koi_period'),\n",
       " (0.017857625768131106, 'koi_impact'),\n",
       " (0.017631093532678145, 'koi_duration_err1'),\n",
       " (0.014380385313810848, 'koi_time0bk'),\n",
       " (0.01341257146447685, 'koi_period_err2'),\n",
       " (0.013337315359965981, 'koi_insol'),\n",
       " (0.013221409600524068, 'koi_time0bk_err2'),\n",
       " (0.013102688671756868, 'koi_insol_err1'),\n",
       " (0.012854596544628168, 'ra'),\n",
       " (0.012819153571981481, 'koi_prad_err1'),\n",
       " (0.012710629984859393, 'koi_depth_err2'),\n",
       " (0.011757724850996182, 'koi_depth_err1'),\n",
       " (0.011251323632517057, 'dec'),\n",
       " (0.010760950894213125, 'koi_slogg_err2'),\n",
       " (0.01066380469343453, 'koi_impact_err1'),\n",
       " (0.010489396234743726, 'koi_srad_err1'),\n",
       " (0.009819822549039615, 'koi_teq'),\n",
       " (0.009673159925614907, 'koi_impact_err2'),\n",
       " (0.009601531809839848, 'koi_insol_err2'),\n",
       " (0.009159531389142682, 'koi_slogg'),\n",
       " (0.009148378102257607, 'koi_srad'),\n",
       " (0.008740547472099331, 'koi_steff'),\n",
       " (0.008575192040756883, 'koi_kepmag'),\n",
       " (0.008189943273066474, 'koi_slogg_err1'),\n",
       " (0.007756656544242045, 'koi_srad_err2'),\n",
       " (0.0026268221558065747, 'koi_tce_plnt_num')]"
      ]
     },
     "execution_count": 32,
     "metadata": {},
     "output_type": "execute_result"
    }
   ],
   "source": [
    "sorted(zip(rf_classifier.feature_importances_, feature_names), reverse=True)"
   ]
  },
  {
   "cell_type": "markdown",
   "metadata": {},
   "source": [
    "# Neural Network"
   ]
  },
  {
   "cell_type": "code",
   "execution_count": 33,
   "metadata": {},
   "outputs": [],
   "source": [
    "# One-hot encoding\n",
    "y_train_categorical = to_categorical(y_train)\n",
    "y_test_categorical = to_categorical(y_test)"
   ]
  },
  {
   "cell_type": "code",
   "execution_count": 34,
   "metadata": {},
   "outputs": [
    {
     "name": "stdout",
     "output_type": "stream",
     "text": [
      "WARNING:tensorflow:From C:\\Users\\Ragavendar Kumar\\Anaconda3\\envs\\PythonData\\lib\\site-packages\\tensorflow\\python\\ops\\resource_variable_ops.py:435: colocate_with (from tensorflow.python.framework.ops) is deprecated and will be removed in a future version.\n",
      "Instructions for updating:\n",
      "Colocations handled automatically by placer.\n"
     ]
    }
   ],
   "source": [
    "#Create a normal neural network with 40 inputs i.e. len(features.columns , 6 hidden nodes, and 3 outputs\n",
    "nn_model = Sequential()\n",
    "nn_model.add(Dense(units=6, activation='relu', input_dim=len(features.columns))) # hidden and input layers\n",
    "nn_model.add(Dense(units=3, activation='softmax')) # output layer"
   ]
  },
  {
   "cell_type": "code",
   "execution_count": 35,
   "metadata": {},
   "outputs": [
    {
     "name": "stdout",
     "output_type": "stream",
     "text": [
      "_________________________________________________________________\n",
      "Layer (type)                 Output Shape              Param #   \n",
      "=================================================================\n",
      "dense (Dense)                (None, 6)                 246       \n",
      "_________________________________________________________________\n",
      "dense_1 (Dense)              (None, 3)                 21        \n",
      "=================================================================\n",
      "Total params: 267\n",
      "Trainable params: 267\n",
      "Non-trainable params: 0\n",
      "_________________________________________________________________\n"
     ]
    }
   ],
   "source": [
    "nn_model.summary()"
   ]
  },
  {
   "cell_type": "code",
   "execution_count": 36,
   "metadata": {},
   "outputs": [],
   "source": [
    "nn_model.compile(optimizer='adam',\n",
    "              loss='categorical_crossentropy',\n",
    "              metrics=['accuracy'])"
   ]
  },
  {
   "cell_type": "code",
   "execution_count": 37,
   "metadata": {},
   "outputs": [
    {
     "name": "stdout",
     "output_type": "stream",
     "text": [
      "WARNING:tensorflow:From C:\\Users\\Ragavendar Kumar\\Anaconda3\\envs\\PythonData\\lib\\site-packages\\tensorflow\\python\\ops\\math_ops.py:3066: to_int32 (from tensorflow.python.ops.math_ops) is deprecated and will be removed in a future version.\n",
      "Instructions for updating:\n",
      "Use tf.cast instead.\n",
      "Epoch 1/100\n",
      " - 2s - loss: 1.0040 - acc: 0.4594\n",
      "Epoch 2/100\n",
      " - 0s - loss: 0.7981 - acc: 0.5932\n",
      "Epoch 3/100\n",
      " - 0s - loss: 0.6116 - acc: 0.7242\n",
      "Epoch 4/100\n",
      " - 0s - loss: 0.5033 - acc: 0.7476\n",
      "Epoch 5/100\n",
      " - 0s - loss: 0.4505 - acc: 0.7736\n",
      "Epoch 6/100\n",
      " - 0s - loss: 0.4221 - acc: 0.7923\n",
      "Epoch 7/100\n",
      " - 0s - loss: 0.4052 - acc: 0.7993\n",
      "Epoch 8/100\n",
      " - 0s - loss: 0.3935 - acc: 0.8070\n",
      "Epoch 9/100\n",
      " - 0s - loss: 0.3859 - acc: 0.8053\n",
      "Epoch 10/100\n",
      " - 0s - loss: 0.3778 - acc: 0.8141\n",
      "Epoch 11/100\n",
      " - 0s - loss: 0.3730 - acc: 0.8137\n",
      "Epoch 12/100\n",
      " - 0s - loss: 0.3677 - acc: 0.8248\n",
      "Epoch 13/100\n",
      " - 1s - loss: 0.3628 - acc: 0.8278\n",
      "Epoch 14/100\n",
      " - 1s - loss: 0.3596 - acc: 0.8248\n",
      "Epoch 15/100\n",
      " - 0s - loss: 0.3558 - acc: 0.8277\n",
      "Epoch 16/100\n",
      " - 0s - loss: 0.3525 - acc: 0.8304\n",
      "Epoch 17/100\n",
      " - 0s - loss: 0.3494 - acc: 0.8324\n",
      "Epoch 18/100\n",
      " - 0s - loss: 0.3471 - acc: 0.8318\n",
      "Epoch 19/100\n",
      " - 0s - loss: 0.3447 - acc: 0.8364\n",
      "Epoch 20/100\n",
      " - 0s - loss: 0.3422 - acc: 0.8390\n",
      "Epoch 21/100\n",
      " - 0s - loss: 0.3397 - acc: 0.8393\n",
      "Epoch 22/100\n",
      " - 0s - loss: 0.3376 - acc: 0.8437\n",
      "Epoch 23/100\n",
      " - 0s - loss: 0.3356 - acc: 0.8426\n",
      "Epoch 24/100\n",
      " - 0s - loss: 0.3330 - acc: 0.8464\n",
      "Epoch 25/100\n",
      " - 0s - loss: 0.3316 - acc: 0.8464\n",
      "Epoch 26/100\n",
      " - 0s - loss: 0.3300 - acc: 0.8468\n",
      "Epoch 27/100\n",
      " - 1s - loss: 0.3275 - acc: 0.8495\n",
      "Epoch 28/100\n",
      " - 0s - loss: 0.3262 - acc: 0.8512\n",
      "Epoch 29/100\n",
      " - 0s - loss: 0.3245 - acc: 0.8513\n",
      "Epoch 30/100\n",
      " - 0s - loss: 0.3230 - acc: 0.8545\n",
      "Epoch 31/100\n",
      " - 0s - loss: 0.3214 - acc: 0.8519\n",
      "Epoch 32/100\n",
      " - 0s - loss: 0.3201 - acc: 0.8553\n",
      "Epoch 33/100\n",
      " - 0s - loss: 0.3187 - acc: 0.8553\n",
      "Epoch 34/100\n",
      " - 0s - loss: 0.3175 - acc: 0.8579\n",
      "Epoch 35/100\n",
      " - 0s - loss: 0.3160 - acc: 0.8579\n",
      "Epoch 36/100\n",
      " - 0s - loss: 0.3143 - acc: 0.8602\n",
      "Epoch 37/100\n",
      " - 0s - loss: 0.3139 - acc: 0.8594\n",
      "Epoch 38/100\n",
      " - 0s - loss: 0.3121 - acc: 0.8596\n",
      "Epoch 39/100\n",
      " - 0s - loss: 0.3109 - acc: 0.8617\n",
      "Epoch 40/100\n",
      " - 0s - loss: 0.3099 - acc: 0.8622\n",
      "Epoch 41/100\n",
      " - 0s - loss: 0.3087 - acc: 0.8635\n",
      "Epoch 42/100\n",
      " - 1s - loss: 0.3081 - acc: 0.8634\n",
      "Epoch 43/100\n",
      " - 0s - loss: 0.3069 - acc: 0.8629\n",
      "Epoch 44/100\n",
      " - 0s - loss: 0.3055 - acc: 0.8641\n",
      "Epoch 45/100\n",
      " - 0s - loss: 0.3060 - acc: 0.8631\n",
      "Epoch 46/100\n",
      " - 0s - loss: 0.3048 - acc: 0.8667\n",
      "Epoch 47/100\n",
      " - 0s - loss: 0.3046 - acc: 0.8620\n",
      "Epoch 48/100\n",
      " - 0s - loss: 0.3026 - acc: 0.8654\n",
      "Epoch 49/100\n",
      " - 0s - loss: 0.3020 - acc: 0.8635\n",
      "Epoch 50/100\n",
      " - 0s - loss: 0.3013 - acc: 0.8669\n",
      "Epoch 51/100\n",
      " - 0s - loss: 0.3007 - acc: 0.8658\n",
      "Epoch 52/100\n",
      " - 0s - loss: 0.2997 - acc: 0.8672\n",
      "Epoch 53/100\n",
      " - 0s - loss: 0.2998 - acc: 0.8666\n",
      "Epoch 54/100\n",
      " - 0s - loss: 0.2987 - acc: 0.8667\n",
      "Epoch 55/100\n",
      " - 0s - loss: 0.2985 - acc: 0.8661\n",
      "Epoch 56/100\n",
      " - 0s - loss: 0.2977 - acc: 0.8678\n",
      "Epoch 57/100\n",
      " - 1s - loss: 0.2962 - acc: 0.8666\n",
      "Epoch 58/100\n",
      " - 0s - loss: 0.2966 - acc: 0.8663\n",
      "Epoch 59/100\n",
      " - 0s - loss: 0.2957 - acc: 0.8651\n",
      "Epoch 60/100\n",
      " - 0s - loss: 0.2957 - acc: 0.8687\n",
      "Epoch 61/100\n",
      " - 0s - loss: 0.2947 - acc: 0.8698\n",
      "Epoch 62/100\n",
      " - 0s - loss: 0.2935 - acc: 0.8699\n",
      "Epoch 63/100\n",
      " - 0s - loss: 0.2932 - acc: 0.8687\n",
      "Epoch 64/100\n",
      " - 0s - loss: 0.2927 - acc: 0.8699\n",
      "Epoch 65/100\n",
      " - 0s - loss: 0.2929 - acc: 0.8686\n",
      "Epoch 66/100\n",
      " - 0s - loss: 0.2920 - acc: 0.8701\n",
      "Epoch 67/100\n",
      " - 0s - loss: 0.2914 - acc: 0.8713\n",
      "Epoch 68/100\n",
      " - 0s - loss: 0.2927 - acc: 0.8669\n",
      "Epoch 69/100\n",
      " - 0s - loss: 0.2907 - acc: 0.8727\n",
      "Epoch 70/100\n",
      " - 0s - loss: 0.2907 - acc: 0.8711\n",
      "Epoch 71/100\n",
      " - 0s - loss: 0.2894 - acc: 0.8708\n",
      "Epoch 72/100\n",
      " - 0s - loss: 0.2901 - acc: 0.8728\n",
      "Epoch 73/100\n",
      " - 0s - loss: 0.2895 - acc: 0.8725\n",
      "Epoch 74/100\n",
      " - 0s - loss: 0.2903 - acc: 0.8708\n",
      "Epoch 75/100\n",
      " - 0s - loss: 0.2873 - acc: 0.8747\n",
      "Epoch 76/100\n",
      " - 0s - loss: 0.2873 - acc: 0.8744\n",
      "Epoch 77/100\n",
      " - 0s - loss: 0.2876 - acc: 0.8739\n",
      "Epoch 78/100\n",
      " - 0s - loss: 0.2871 - acc: 0.8769\n",
      "Epoch 79/100\n",
      " - 0s - loss: 0.2873 - acc: 0.8740\n",
      "Epoch 80/100\n",
      " - 0s - loss: 0.2869 - acc: 0.8759\n",
      "Epoch 81/100\n",
      " - 0s - loss: 0.2862 - acc: 0.8754\n",
      "Epoch 82/100\n",
      " - 0s - loss: 0.2858 - acc: 0.8748\n",
      "Epoch 83/100\n",
      " - 0s - loss: 0.2859 - acc: 0.8748\n",
      "Epoch 84/100\n",
      " - 0s - loss: 0.2860 - acc: 0.8739\n",
      "Epoch 85/100\n",
      " - 0s - loss: 0.2848 - acc: 0.8766\n",
      "Epoch 86/100\n",
      " - 1s - loss: 0.2847 - acc: 0.8750\n",
      "Epoch 87/100\n",
      " - 1s - loss: 0.2854 - acc: 0.8734\n",
      "Epoch 88/100\n",
      " - 0s - loss: 0.2842 - acc: 0.8762\n",
      "Epoch 89/100\n",
      " - 0s - loss: 0.2841 - acc: 0.8760\n",
      "Epoch 90/100\n",
      " - 0s - loss: 0.2851 - acc: 0.8742\n",
      "Epoch 91/100\n",
      " - 0s - loss: 0.2836 - acc: 0.8768\n",
      "Epoch 92/100\n",
      " - 0s - loss: 0.2833 - acc: 0.8765\n",
      "Epoch 93/100\n",
      " - 0s - loss: 0.2848 - acc: 0.8771\n",
      "Epoch 94/100\n",
      " - 0s - loss: 0.2833 - acc: 0.8760\n",
      "Epoch 95/100\n",
      " - 0s - loss: 0.2831 - acc: 0.8751\n",
      "Epoch 96/100\n",
      " - 0s - loss: 0.2819 - acc: 0.8789\n",
      "Epoch 97/100\n",
      " - 0s - loss: 0.2834 - acc: 0.8756\n",
      "Epoch 98/100\n",
      " - 0s - loss: 0.2822 - acc: 0.8791\n",
      "Epoch 99/100\n",
      " - 0s - loss: 0.2815 - acc: 0.8792\n",
      "Epoch 100/100\n",
      " - 0s - loss: 0.2835 - acc: 0.8780\n"
     ]
    },
    {
     "data": {
      "text/plain": [
       "<tensorflow.python.keras.callbacks.History at 0x12dc5a7deb8>"
      ]
     },
     "execution_count": 37,
     "metadata": {},
     "output_type": "execute_result"
    }
   ],
   "source": [
    "nn_model.fit(\n",
    "    X_train_scaled,\n",
    "    y_train_categorical,\n",
    "    epochs=100,\n",
    "    shuffle=True,\n",
    "    verbose=2\n",
    ")"
   ]
  },
  {
   "cell_type": "code",
   "execution_count": 38,
   "metadata": {},
   "outputs": [
    {
     "name": "stdout",
     "output_type": "stream",
     "text": [
      " - 1s - loss: 0.3210 - acc: 0.8733\n",
      "Normal Neural Network - Loss: 0.32104106638699853, Accuracy: 0.8732845187187195\n"
     ]
    }
   ],
   "source": [
    "nn_model_loss, nn_model_accuracy = nn_model.evaluate(\n",
    "    X_test_scaled, y_test_categorical, verbose=2)\n",
    "print(\n",
    "    f\"Normal Neural Network - Loss: {nn_model_loss}, Accuracy: {nn_model_accuracy}\")"
   ]
  },
  {
   "cell_type": "markdown",
   "metadata": {},
   "source": [
    "# Deep Learning"
   ]
  },
  {
   "cell_type": "code",
   "execution_count": 39,
   "metadata": {},
   "outputs": [],
   "source": [
    "deep_model = Sequential()\n",
    "deep_model.add(Dense(units=6, activation='relu', input_dim=len(features.columns))) #input\n",
    "deep_model.add(Dense(units=6, activation='relu')) # hidden\n",
    "deep_model.add(Dense(units=3, activation='softmax')) # output"
   ]
  },
  {
   "cell_type": "code",
   "execution_count": 40,
   "metadata": {},
   "outputs": [
    {
     "name": "stdout",
     "output_type": "stream",
     "text": [
      "_________________________________________________________________\n",
      "Layer (type)                 Output Shape              Param #   \n",
      "=================================================================\n",
      "dense_2 (Dense)              (None, 6)                 246       \n",
      "_________________________________________________________________\n",
      "dense_3 (Dense)              (None, 6)                 42        \n",
      "_________________________________________________________________\n",
      "dense_4 (Dense)              (None, 3)                 21        \n",
      "=================================================================\n",
      "Total params: 309\n",
      "Trainable params: 309\n",
      "Non-trainable params: 0\n",
      "_________________________________________________________________\n"
     ]
    }
   ],
   "source": [
    "deep_model.summary()"
   ]
  },
  {
   "cell_type": "code",
   "execution_count": 41,
   "metadata": {},
   "outputs": [
    {
     "name": "stdout",
     "output_type": "stream",
     "text": [
      "Epoch 1/100\n",
      " - 1s - loss: 0.9692 - acc: 0.5116\n",
      "Epoch 2/100\n",
      " - 0s - loss: 0.6683 - acc: 0.7299\n",
      "Epoch 3/100\n",
      " - 0s - loss: 0.4695 - acc: 0.7617\n",
      "Epoch 4/100\n",
      " - 0s - loss: 0.4101 - acc: 0.7925\n",
      "Epoch 5/100\n",
      " - 0s - loss: 0.3910 - acc: 0.8071\n",
      "Epoch 6/100\n",
      " - 0s - loss: 0.3821 - acc: 0.8086\n",
      "Epoch 7/100\n",
      " - 0s - loss: 0.3756 - acc: 0.8150\n",
      "Epoch 8/100\n",
      " - 1s - loss: 0.3703 - acc: 0.8103\n",
      "Epoch 9/100\n",
      " - 1s - loss: 0.3657 - acc: 0.8166\n",
      "Epoch 10/100\n",
      " - 0s - loss: 0.3606 - acc: 0.8298\n",
      "Epoch 11/100\n",
      " - 0s - loss: 0.3560 - acc: 0.8281\n",
      "Epoch 12/100\n",
      " - 0s - loss: 0.3522 - acc: 0.8268\n",
      "Epoch 13/100\n",
      " - 0s - loss: 0.3489 - acc: 0.8306\n",
      "Epoch 14/100\n",
      " - 0s - loss: 0.3462 - acc: 0.8321\n",
      "Epoch 15/100\n",
      " - 0s - loss: 0.3441 - acc: 0.8324\n",
      "Epoch 16/100\n",
      " - 0s - loss: 0.3432 - acc: 0.8309\n",
      "Epoch 17/100\n",
      " - 1s - loss: 0.3394 - acc: 0.8339\n",
      "Epoch 18/100\n",
      " - 1s - loss: 0.3380 - acc: 0.8367\n",
      "Epoch 19/100\n",
      " - 1s - loss: 0.3363 - acc: 0.8381\n",
      "Epoch 20/100\n",
      " - 1s - loss: 0.3350 - acc: 0.8397\n",
      "Epoch 21/100\n",
      " - 0s - loss: 0.3333 - acc: 0.8399\n",
      "Epoch 22/100\n",
      " - 0s - loss: 0.3328 - acc: 0.8387\n",
      "Epoch 23/100\n",
      " - 0s - loss: 0.3326 - acc: 0.8350\n",
      "Epoch 24/100\n",
      " - 0s - loss: 0.3283 - acc: 0.8442\n",
      "Epoch 25/100\n",
      " - 0s - loss: 0.3293 - acc: 0.8431\n",
      "Epoch 26/100\n",
      " - 0s - loss: 0.3277 - acc: 0.8414\n",
      "Epoch 27/100\n",
      " - 0s - loss: 0.3256 - acc: 0.8425\n",
      "Epoch 28/100\n",
      " - 0s - loss: 0.3257 - acc: 0.8448\n",
      "Epoch 29/100\n",
      " - 0s - loss: 0.3240 - acc: 0.8469\n",
      "Epoch 30/100\n",
      " - 0s - loss: 0.3232 - acc: 0.8464\n",
      "Epoch 31/100\n",
      " - 0s - loss: 0.3227 - acc: 0.8468\n",
      "Epoch 32/100\n",
      " - 1s - loss: 0.3214 - acc: 0.8472\n",
      "Epoch 33/100\n",
      " - 1s - loss: 0.3205 - acc: 0.8457\n",
      "Epoch 34/100\n",
      " - 0s - loss: 0.3191 - acc: 0.8484\n",
      "Epoch 35/100\n",
      " - 0s - loss: 0.3178 - acc: 0.8493\n",
      "Epoch 36/100\n",
      " - 0s - loss: 0.3174 - acc: 0.8504\n",
      "Epoch 37/100\n",
      " - 0s - loss: 0.3143 - acc: 0.8535\n",
      "Epoch 38/100\n",
      " - 0s - loss: 0.3153 - acc: 0.8529\n",
      "Epoch 39/100\n",
      " - 0s - loss: 0.3119 - acc: 0.8535\n",
      "Epoch 40/100\n",
      " - 0s - loss: 0.3116 - acc: 0.8541\n",
      "Epoch 41/100\n",
      " - 0s - loss: 0.3078 - acc: 0.8582\n",
      "Epoch 42/100\n",
      " - 0s - loss: 0.3073 - acc: 0.8599\n",
      "Epoch 43/100\n",
      " - 0s - loss: 0.3084 - acc: 0.8576\n",
      "Epoch 44/100\n",
      " - 0s - loss: 0.3047 - acc: 0.8602\n",
      "Epoch 45/100\n",
      " - 1s - loss: 0.3062 - acc: 0.8565\n",
      "Epoch 46/100\n",
      " - 0s - loss: 0.3036 - acc: 0.8614\n",
      "Epoch 47/100\n",
      " - 0s - loss: 0.3023 - acc: 0.8625\n",
      "Epoch 48/100\n",
      " - 0s - loss: 0.2996 - acc: 0.8614\n",
      "Epoch 49/100\n",
      " - 0s - loss: 0.2994 - acc: 0.8641\n",
      "Epoch 50/100\n",
      " - 0s - loss: 0.2982 - acc: 0.8631\n",
      "Epoch 51/100\n",
      " - 0s - loss: 0.2981 - acc: 0.8649\n",
      "Epoch 52/100\n",
      " - 0s - loss: 0.2996 - acc: 0.8614\n",
      "Epoch 53/100\n",
      " - 0s - loss: 0.2963 - acc: 0.8658\n",
      "Epoch 54/100\n",
      " - 0s - loss: 0.2950 - acc: 0.8652\n",
      "Epoch 55/100\n",
      " - 0s - loss: 0.2939 - acc: 0.8660\n",
      "Epoch 56/100\n",
      " - 0s - loss: 0.2930 - acc: 0.8658\n",
      "Epoch 57/100\n",
      " - 1s - loss: 0.2939 - acc: 0.8676\n",
      "Epoch 58/100\n",
      " - 1s - loss: 0.2923 - acc: 0.8689\n",
      "Epoch 59/100\n",
      " - 0s - loss: 0.2929 - acc: 0.8666\n",
      "Epoch 60/100\n",
      " - 0s - loss: 0.2911 - acc: 0.8701\n",
      "Epoch 61/100\n",
      " - 1s - loss: 0.2916 - acc: 0.8687\n",
      "Epoch 62/100\n",
      " - 1s - loss: 0.2910 - acc: 0.8683\n",
      "Epoch 63/100\n",
      " - 0s - loss: 0.2894 - acc: 0.8719\n",
      "Epoch 64/100\n",
      " - 0s - loss: 0.2862 - acc: 0.8739\n",
      "Epoch 65/100\n",
      " - 0s - loss: 0.2870 - acc: 0.8715\n",
      "Epoch 66/100\n",
      " - 0s - loss: 0.2855 - acc: 0.8734\n",
      "Epoch 67/100\n",
      " - 0s - loss: 0.2887 - acc: 0.8711\n",
      "Epoch 68/100\n",
      " - 0s - loss: 0.2882 - acc: 0.8701\n",
      "Epoch 69/100\n",
      " - 1s - loss: 0.2853 - acc: 0.8728\n",
      "Epoch 70/100\n",
      " - 1s - loss: 0.2835 - acc: 0.8745\n",
      "Epoch 71/100\n",
      " - 1s - loss: 0.2832 - acc: 0.8748\n",
      "Epoch 72/100\n",
      " - 1s - loss: 0.2857 - acc: 0.8715\n",
      "Epoch 73/100\n",
      " - 0s - loss: 0.2825 - acc: 0.8762\n",
      "Epoch 74/100\n",
      " - 0s - loss: 0.2818 - acc: 0.8772\n",
      "Epoch 75/100\n",
      " - 1s - loss: 0.2807 - acc: 0.8771\n",
      "Epoch 76/100\n",
      " - 1s - loss: 0.2812 - acc: 0.8783\n",
      "Epoch 77/100\n",
      " - 0s - loss: 0.2820 - acc: 0.8782\n",
      "Epoch 78/100\n",
      " - 0s - loss: 0.2816 - acc: 0.8760\n",
      "Epoch 79/100\n",
      " - 0s - loss: 0.2807 - acc: 0.8779\n",
      "Epoch 80/100\n",
      " - 1s - loss: 0.2806 - acc: 0.8776\n",
      "Epoch 81/100\n",
      " - 1s - loss: 0.2803 - acc: 0.8794\n",
      "Epoch 82/100\n",
      " - 1s - loss: 0.2807 - acc: 0.8766\n",
      "Epoch 83/100\n",
      " - 0s - loss: 0.2804 - acc: 0.8783\n",
      "Epoch 84/100\n",
      " - 0s - loss: 0.2798 - acc: 0.8805\n",
      "Epoch 85/100\n",
      " - 0s - loss: 0.2791 - acc: 0.8786\n",
      "Epoch 86/100\n",
      " - 0s - loss: 0.2804 - acc: 0.8791\n",
      "Epoch 87/100\n",
      " - 0s - loss: 0.2791 - acc: 0.8801\n",
      "Epoch 88/100\n",
      " - 0s - loss: 0.2760 - acc: 0.8795\n",
      "Epoch 89/100\n",
      " - 1s - loss: 0.2775 - acc: 0.8806\n",
      "Epoch 90/100\n",
      " - 1s - loss: 0.2780 - acc: 0.8794\n",
      "Epoch 91/100\n",
      " - 0s - loss: 0.2768 - acc: 0.8769\n",
      "Epoch 92/100\n",
      " - 1s - loss: 0.2783 - acc: 0.8808\n",
      "Epoch 93/100\n",
      " - 1s - loss: 0.2759 - acc: 0.8823\n",
      "Epoch 94/100\n",
      " - 1s - loss: 0.2771 - acc: 0.8798\n",
      "Epoch 95/100\n",
      " - 1s - loss: 0.2754 - acc: 0.8815\n",
      "Epoch 96/100\n",
      " - 1s - loss: 0.2767 - acc: 0.8821\n",
      "Epoch 97/100\n",
      " - 1s - loss: 0.2764 - acc: 0.8789\n",
      "Epoch 98/100\n",
      " - 1s - loss: 0.2748 - acc: 0.8808\n",
      "Epoch 99/100\n",
      " - 1s - loss: 0.2759 - acc: 0.8820\n",
      "Epoch 100/100\n",
      " - 1s - loss: 0.2733 - acc: 0.8815\n"
     ]
    },
    {
     "data": {
      "text/plain": [
       "<tensorflow.python.keras.callbacks.History at 0x12dc489cda0>"
      ]
     },
     "execution_count": 41,
     "metadata": {},
     "output_type": "execute_result"
    }
   ],
   "source": [
    "deep_model.compile(optimizer='adam',\n",
    "                   loss='categorical_crossentropy',\n",
    "                   metrics=['accuracy'])\n",
    "\n",
    "deep_model.fit(\n",
    "    X_train_scaled,\n",
    "    y_train_categorical,\n",
    "    epochs=100,\n",
    "    shuffle=True,\n",
    "    verbose=2\n",
    ")"
   ]
  },
  {
   "cell_type": "code",
   "execution_count": 42,
   "metadata": {},
   "outputs": [
    {
     "name": "stdout",
     "output_type": "stream",
     "text": [
      " - 0s - loss: 0.3289 - acc: 0.8637\n",
      "Deep Neural Network - Loss: 0.3288894433661109, Accuracy: 0.863677978515625\n"
     ]
    }
   ],
   "source": [
    "deep_model_loss, deep_model_accuracy = deep_model.evaluate(\n",
    "    X_test_scaled, y_test_categorical, verbose=2)\n",
    "print(\n",
    "    f\"Deep Neural Network - Loss: {deep_model_loss}, Accuracy: {deep_model_accuracy}\")"
   ]
  },
  {
   "cell_type": "markdown",
   "metadata": {},
   "source": [
    "# KMeans"
   ]
  },
  {
   "cell_type": "code",
   "execution_count": 43,
   "metadata": {},
   "outputs": [],
   "source": [
    "kmeans = KMeans(n_clusters=3)"
   ]
  },
  {
   "cell_type": "code",
   "execution_count": 44,
   "metadata": {},
   "outputs": [
    {
     "data": {
      "text/html": [
       "<div>\n",
       "<style scoped>\n",
       "    .dataframe tbody tr th:only-of-type {\n",
       "        vertical-align: middle;\n",
       "    }\n",
       "\n",
       "    .dataframe tbody tr th {\n",
       "        vertical-align: top;\n",
       "    }\n",
       "\n",
       "    .dataframe thead th {\n",
       "        text-align: right;\n",
       "    }\n",
       "</style>\n",
       "<table border=\"1\" class=\"dataframe\">\n",
       "  <thead>\n",
       "    <tr style=\"text-align: right;\">\n",
       "      <th></th>\n",
       "      <th>koi_disposition</th>\n",
       "      <th>koi_fpflag_nt</th>\n",
       "      <th>koi_fpflag_ss</th>\n",
       "      <th>koi_fpflag_co</th>\n",
       "      <th>koi_fpflag_ec</th>\n",
       "      <th>koi_period</th>\n",
       "      <th>koi_period_err1</th>\n",
       "      <th>koi_period_err2</th>\n",
       "      <th>koi_time0bk</th>\n",
       "      <th>koi_time0bk_err1</th>\n",
       "      <th>...</th>\n",
       "      <th>koi_steff_err2</th>\n",
       "      <th>koi_slogg</th>\n",
       "      <th>koi_slogg_err1</th>\n",
       "      <th>koi_slogg_err2</th>\n",
       "      <th>koi_srad</th>\n",
       "      <th>koi_srad_err1</th>\n",
       "      <th>koi_srad_err2</th>\n",
       "      <th>ra</th>\n",
       "      <th>dec</th>\n",
       "      <th>koi_kepmag</th>\n",
       "    </tr>\n",
       "  </thead>\n",
       "  <tbody>\n",
       "    <tr>\n",
       "      <th>0</th>\n",
       "      <td>1</td>\n",
       "      <td>0</td>\n",
       "      <td>0</td>\n",
       "      <td>0</td>\n",
       "      <td>0</td>\n",
       "      <td>9.488036</td>\n",
       "      <td>2.775000e-05</td>\n",
       "      <td>-2.775000e-05</td>\n",
       "      <td>170.538750</td>\n",
       "      <td>0.002160</td>\n",
       "      <td>...</td>\n",
       "      <td>-81.0</td>\n",
       "      <td>4.467</td>\n",
       "      <td>0.064</td>\n",
       "      <td>-0.096</td>\n",
       "      <td>0.927</td>\n",
       "      <td>0.105</td>\n",
       "      <td>-0.061</td>\n",
       "      <td>291.93423</td>\n",
       "      <td>48.141651</td>\n",
       "      <td>15.347</td>\n",
       "    </tr>\n",
       "    <tr>\n",
       "      <th>1</th>\n",
       "      <td>1</td>\n",
       "      <td>0</td>\n",
       "      <td>0</td>\n",
       "      <td>0</td>\n",
       "      <td>0</td>\n",
       "      <td>54.418383</td>\n",
       "      <td>2.479000e-04</td>\n",
       "      <td>-2.479000e-04</td>\n",
       "      <td>162.513840</td>\n",
       "      <td>0.003520</td>\n",
       "      <td>...</td>\n",
       "      <td>-81.0</td>\n",
       "      <td>4.467</td>\n",
       "      <td>0.064</td>\n",
       "      <td>-0.096</td>\n",
       "      <td>0.927</td>\n",
       "      <td>0.105</td>\n",
       "      <td>-0.061</td>\n",
       "      <td>291.93423</td>\n",
       "      <td>48.141651</td>\n",
       "      <td>15.347</td>\n",
       "    </tr>\n",
       "    <tr>\n",
       "      <th>2</th>\n",
       "      <td>2</td>\n",
       "      <td>0</td>\n",
       "      <td>1</td>\n",
       "      <td>0</td>\n",
       "      <td>0</td>\n",
       "      <td>19.899140</td>\n",
       "      <td>1.494000e-05</td>\n",
       "      <td>-1.494000e-05</td>\n",
       "      <td>175.850252</td>\n",
       "      <td>0.000581</td>\n",
       "      <td>...</td>\n",
       "      <td>-176.0</td>\n",
       "      <td>4.544</td>\n",
       "      <td>0.044</td>\n",
       "      <td>-0.176</td>\n",
       "      <td>0.868</td>\n",
       "      <td>0.233</td>\n",
       "      <td>-0.078</td>\n",
       "      <td>297.00482</td>\n",
       "      <td>48.134129</td>\n",
       "      <td>15.436</td>\n",
       "    </tr>\n",
       "    <tr>\n",
       "      <th>3</th>\n",
       "      <td>2</td>\n",
       "      <td>0</td>\n",
       "      <td>1</td>\n",
       "      <td>0</td>\n",
       "      <td>0</td>\n",
       "      <td>1.736952</td>\n",
       "      <td>2.630000e-07</td>\n",
       "      <td>-2.630000e-07</td>\n",
       "      <td>170.307565</td>\n",
       "      <td>0.000115</td>\n",
       "      <td>...</td>\n",
       "      <td>-174.0</td>\n",
       "      <td>4.564</td>\n",
       "      <td>0.053</td>\n",
       "      <td>-0.168</td>\n",
       "      <td>0.791</td>\n",
       "      <td>0.201</td>\n",
       "      <td>-0.067</td>\n",
       "      <td>285.53461</td>\n",
       "      <td>48.285210</td>\n",
       "      <td>15.597</td>\n",
       "    </tr>\n",
       "    <tr>\n",
       "      <th>4</th>\n",
       "      <td>1</td>\n",
       "      <td>0</td>\n",
       "      <td>0</td>\n",
       "      <td>0</td>\n",
       "      <td>0</td>\n",
       "      <td>2.525592</td>\n",
       "      <td>3.761000e-06</td>\n",
       "      <td>-3.761000e-06</td>\n",
       "      <td>171.595550</td>\n",
       "      <td>0.001130</td>\n",
       "      <td>...</td>\n",
       "      <td>-211.0</td>\n",
       "      <td>4.438</td>\n",
       "      <td>0.070</td>\n",
       "      <td>-0.210</td>\n",
       "      <td>1.046</td>\n",
       "      <td>0.334</td>\n",
       "      <td>-0.133</td>\n",
       "      <td>288.75488</td>\n",
       "      <td>48.226200</td>\n",
       "      <td>15.509</td>\n",
       "    </tr>\n",
       "  </tbody>\n",
       "</table>\n",
       "<p>5 rows × 41 columns</p>\n",
       "</div>"
      ],
      "text/plain": [
       "   koi_disposition  koi_fpflag_nt  koi_fpflag_ss  koi_fpflag_co  \\\n",
       "0                1              0              0              0   \n",
       "1                1              0              0              0   \n",
       "2                2              0              1              0   \n",
       "3                2              0              1              0   \n",
       "4                1              0              0              0   \n",
       "\n",
       "   koi_fpflag_ec  koi_period  koi_period_err1  koi_period_err2  koi_time0bk  \\\n",
       "0              0    9.488036     2.775000e-05    -2.775000e-05   170.538750   \n",
       "1              0   54.418383     2.479000e-04    -2.479000e-04   162.513840   \n",
       "2              0   19.899140     1.494000e-05    -1.494000e-05   175.850252   \n",
       "3              0    1.736952     2.630000e-07    -2.630000e-07   170.307565   \n",
       "4              0    2.525592     3.761000e-06    -3.761000e-06   171.595550   \n",
       "\n",
       "   koi_time0bk_err1     ...      koi_steff_err2  koi_slogg  koi_slogg_err1  \\\n",
       "0          0.002160     ...               -81.0      4.467           0.064   \n",
       "1          0.003520     ...               -81.0      4.467           0.064   \n",
       "2          0.000581     ...              -176.0      4.544           0.044   \n",
       "3          0.000115     ...              -174.0      4.564           0.053   \n",
       "4          0.001130     ...              -211.0      4.438           0.070   \n",
       "\n",
       "   koi_slogg_err2  koi_srad  koi_srad_err1  koi_srad_err2         ra  \\\n",
       "0          -0.096     0.927          0.105         -0.061  291.93423   \n",
       "1          -0.096     0.927          0.105         -0.061  291.93423   \n",
       "2          -0.176     0.868          0.233         -0.078  297.00482   \n",
       "3          -0.168     0.791          0.201         -0.067  285.53461   \n",
       "4          -0.210     1.046          0.334         -0.133  288.75488   \n",
       "\n",
       "         dec  koi_kepmag  \n",
       "0  48.141651      15.347  \n",
       "1  48.141651      15.347  \n",
       "2  48.134129      15.436  \n",
       "3  48.285210      15.597  \n",
       "4  48.226200      15.509  \n",
       "\n",
       "[5 rows x 41 columns]"
      ]
     },
     "execution_count": 44,
     "metadata": {},
     "output_type": "execute_result"
    }
   ],
   "source": [
    "df.head()"
   ]
  },
  {
   "cell_type": "code",
   "execution_count": 45,
   "metadata": {},
   "outputs": [
    {
     "data": {
      "text/html": [
       "<div>\n",
       "<style scoped>\n",
       "    .dataframe tbody tr th:only-of-type {\n",
       "        vertical-align: middle;\n",
       "    }\n",
       "\n",
       "    .dataframe tbody tr th {\n",
       "        vertical-align: top;\n",
       "    }\n",
       "\n",
       "    .dataframe thead th {\n",
       "        text-align: right;\n",
       "    }\n",
       "</style>\n",
       "<table border=\"1\" class=\"dataframe\">\n",
       "  <thead>\n",
       "    <tr style=\"text-align: right;\">\n",
       "      <th></th>\n",
       "      <th>koi_disposition</th>\n",
       "      <th>cluster</th>\n",
       "      <th>koi_fpflag_nt</th>\n",
       "      <th>koi_fpflag_ss</th>\n",
       "      <th>koi_fpflag_co</th>\n",
       "      <th>koi_fpflag_ec</th>\n",
       "      <th>koi_period</th>\n",
       "      <th>koi_period_err1</th>\n",
       "      <th>koi_period_err2</th>\n",
       "      <th>koi_time0bk</th>\n",
       "      <th>...</th>\n",
       "      <th>koi_steff_err2</th>\n",
       "      <th>koi_slogg</th>\n",
       "      <th>koi_slogg_err1</th>\n",
       "      <th>koi_slogg_err2</th>\n",
       "      <th>koi_srad</th>\n",
       "      <th>koi_srad_err1</th>\n",
       "      <th>koi_srad_err2</th>\n",
       "      <th>ra</th>\n",
       "      <th>dec</th>\n",
       "      <th>koi_kepmag</th>\n",
       "    </tr>\n",
       "  </thead>\n",
       "  <tbody>\n",
       "    <tr>\n",
       "      <th>0</th>\n",
       "      <td>1</td>\n",
       "      <td>0</td>\n",
       "      <td>0</td>\n",
       "      <td>0</td>\n",
       "      <td>0</td>\n",
       "      <td>0</td>\n",
       "      <td>9.488036</td>\n",
       "      <td>2.775000e-05</td>\n",
       "      <td>-2.775000e-05</td>\n",
       "      <td>170.538750</td>\n",
       "      <td>...</td>\n",
       "      <td>-81.0</td>\n",
       "      <td>4.467</td>\n",
       "      <td>0.064</td>\n",
       "      <td>-0.096</td>\n",
       "      <td>0.927</td>\n",
       "      <td>0.105</td>\n",
       "      <td>-0.061</td>\n",
       "      <td>291.93423</td>\n",
       "      <td>48.141651</td>\n",
       "      <td>15.347</td>\n",
       "    </tr>\n",
       "    <tr>\n",
       "      <th>1</th>\n",
       "      <td>1</td>\n",
       "      <td>0</td>\n",
       "      <td>0</td>\n",
       "      <td>0</td>\n",
       "      <td>0</td>\n",
       "      <td>0</td>\n",
       "      <td>54.418383</td>\n",
       "      <td>2.479000e-04</td>\n",
       "      <td>-2.479000e-04</td>\n",
       "      <td>162.513840</td>\n",
       "      <td>...</td>\n",
       "      <td>-81.0</td>\n",
       "      <td>4.467</td>\n",
       "      <td>0.064</td>\n",
       "      <td>-0.096</td>\n",
       "      <td>0.927</td>\n",
       "      <td>0.105</td>\n",
       "      <td>-0.061</td>\n",
       "      <td>291.93423</td>\n",
       "      <td>48.141651</td>\n",
       "      <td>15.347</td>\n",
       "    </tr>\n",
       "    <tr>\n",
       "      <th>2</th>\n",
       "      <td>2</td>\n",
       "      <td>0</td>\n",
       "      <td>0</td>\n",
       "      <td>1</td>\n",
       "      <td>0</td>\n",
       "      <td>0</td>\n",
       "      <td>19.899140</td>\n",
       "      <td>1.494000e-05</td>\n",
       "      <td>-1.494000e-05</td>\n",
       "      <td>175.850252</td>\n",
       "      <td>...</td>\n",
       "      <td>-176.0</td>\n",
       "      <td>4.544</td>\n",
       "      <td>0.044</td>\n",
       "      <td>-0.176</td>\n",
       "      <td>0.868</td>\n",
       "      <td>0.233</td>\n",
       "      <td>-0.078</td>\n",
       "      <td>297.00482</td>\n",
       "      <td>48.134129</td>\n",
       "      <td>15.436</td>\n",
       "    </tr>\n",
       "    <tr>\n",
       "      <th>3</th>\n",
       "      <td>2</td>\n",
       "      <td>0</td>\n",
       "      <td>0</td>\n",
       "      <td>1</td>\n",
       "      <td>0</td>\n",
       "      <td>0</td>\n",
       "      <td>1.736952</td>\n",
       "      <td>2.630000e-07</td>\n",
       "      <td>-2.630000e-07</td>\n",
       "      <td>170.307565</td>\n",
       "      <td>...</td>\n",
       "      <td>-174.0</td>\n",
       "      <td>4.564</td>\n",
       "      <td>0.053</td>\n",
       "      <td>-0.168</td>\n",
       "      <td>0.791</td>\n",
       "      <td>0.201</td>\n",
       "      <td>-0.067</td>\n",
       "      <td>285.53461</td>\n",
       "      <td>48.285210</td>\n",
       "      <td>15.597</td>\n",
       "    </tr>\n",
       "    <tr>\n",
       "      <th>4</th>\n",
       "      <td>1</td>\n",
       "      <td>0</td>\n",
       "      <td>0</td>\n",
       "      <td>0</td>\n",
       "      <td>0</td>\n",
       "      <td>0</td>\n",
       "      <td>2.525592</td>\n",
       "      <td>3.761000e-06</td>\n",
       "      <td>-3.761000e-06</td>\n",
       "      <td>171.595550</td>\n",
       "      <td>...</td>\n",
       "      <td>-211.0</td>\n",
       "      <td>4.438</td>\n",
       "      <td>0.070</td>\n",
       "      <td>-0.210</td>\n",
       "      <td>1.046</td>\n",
       "      <td>0.334</td>\n",
       "      <td>-0.133</td>\n",
       "      <td>288.75488</td>\n",
       "      <td>48.226200</td>\n",
       "      <td>15.509</td>\n",
       "    </tr>\n",
       "  </tbody>\n",
       "</table>\n",
       "<p>5 rows × 42 columns</p>\n",
       "</div>"
      ],
      "text/plain": [
       "   koi_disposition  cluster  koi_fpflag_nt  koi_fpflag_ss  koi_fpflag_co  \\\n",
       "0                1        0              0              0              0   \n",
       "1                1        0              0              0              0   \n",
       "2                2        0              0              1              0   \n",
       "3                2        0              0              1              0   \n",
       "4                1        0              0              0              0   \n",
       "\n",
       "   koi_fpflag_ec  koi_period  koi_period_err1  koi_period_err2  koi_time0bk  \\\n",
       "0              0    9.488036     2.775000e-05    -2.775000e-05   170.538750   \n",
       "1              0   54.418383     2.479000e-04    -2.479000e-04   162.513840   \n",
       "2              0   19.899140     1.494000e-05    -1.494000e-05   175.850252   \n",
       "3              0    1.736952     2.630000e-07    -2.630000e-07   170.307565   \n",
       "4              0    2.525592     3.761000e-06    -3.761000e-06   171.595550   \n",
       "\n",
       "      ...      koi_steff_err2  koi_slogg  koi_slogg_err1  koi_slogg_err2  \\\n",
       "0     ...               -81.0      4.467           0.064          -0.096   \n",
       "1     ...               -81.0      4.467           0.064          -0.096   \n",
       "2     ...              -176.0      4.544           0.044          -0.176   \n",
       "3     ...              -174.0      4.564           0.053          -0.168   \n",
       "4     ...              -211.0      4.438           0.070          -0.210   \n",
       "\n",
       "   koi_srad  koi_srad_err1  koi_srad_err2         ra        dec  koi_kepmag  \n",
       "0     0.927          0.105         -0.061  291.93423  48.141651      15.347  \n",
       "1     0.927          0.105         -0.061  291.93423  48.141651      15.347  \n",
       "2     0.868          0.233         -0.078  297.00482  48.134129      15.436  \n",
       "3     0.791          0.201         -0.067  285.53461  48.285210      15.597  \n",
       "4     1.046          0.334         -0.133  288.75488  48.226200      15.509  \n",
       "\n",
       "[5 rows x 42 columns]"
      ]
     },
     "execution_count": 45,
     "metadata": {},
     "output_type": "execute_result"
    }
   ],
   "source": [
    "df.insert(loc=1, column='cluster', value=kmeans.fit_predict(features))\n",
    "df.head()"
   ]
  },
  {
   "cell_type": "code",
   "execution_count": 46,
   "metadata": {},
   "outputs": [
    {
     "data": {
      "text/plain": [
       "0    8307\n",
       "2     434\n",
       "1       3\n",
       "Name: cluster, dtype: int64"
      ]
     },
     "execution_count": 46,
     "metadata": {},
     "output_type": "execute_result"
    }
   ],
   "source": [
    "df['cluster'].value_counts()"
   ]
  },
  {
   "cell_type": "code",
   "execution_count": null,
   "metadata": {},
   "outputs": [],
   "source": []
  }
 ],
 "metadata": {
  "kernel_info": {
   "name": "dev"
  },
  "kernelspec": {
   "display_name": "'Python Interactive'",
   "language": "python",
   "name": "09094c45-257e-4d3b-8f86-5f1052e78d86"
  },
  "language_info": {
   "codemirror_mode": {
    "name": "ipython",
    "version": 3
   },
   "file_extension": ".py",
   "mimetype": "text/x-python",
   "name": "python",
   "nbconvert_exporter": "python",
   "pygments_lexer": "ipython3",
   "version": "3.7.1"
  },
  "nteract": {
   "version": "0.12.3"
  }
 },
 "nbformat": 4,
 "nbformat_minor": 2
}
